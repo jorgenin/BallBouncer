{
 "cells": [
  {
   "cell_type": "code",
   "execution_count": 238,
   "metadata": {},
   "outputs": [],
   "source": [
    "import numpy as np\n",
    "from IPython.display import display, HTML\n",
    "import matplotlib.pyplot as plt\n",
    "import importlib\n",
    "\n",
    "import matplotlib.patches as mpatches\n",
    "import sys\n",
    "from urllib.request import urlretrieve\n",
    "from pydrake.all import (\n",
    "    DiagramBuilder, ConnectPlanarSceneGraphVisualizer, Simulator, RigidTransform, LeafSystem, BasicVector,\n",
    "    MultibodyPlant,SceneGraph,\n",
    "    JacobianWrtVariable, RollPitchYaw, VectorLogSink, SpatialInertia, UnitInertia, Box, CoulombFriction, ContactModel,Sphere,\n",
    "    WitnessFunctionDirection, UnrestrictedUpdateEvent, MathematicalProgram, le,SnoptSolver, DirectCollocation, Solve,eq,ge,sin,cos, PiecewisePolynomial,Quaternion\n",
    ")\n",
    "\n",
    "from manipulation.meshcat_cpp_utils import AddMeshcatTriad"
   ]
  },
  {
   "cell_type": "markdown",
   "metadata": {},
   "source": [
    "So here we are going to create a ball bouncer trajectory optimizer\n",
    "This hould take input from the ball "
   ]
  },
  {
   "cell_type": "code",
   "execution_count": 239,
   "metadata": {},
   "outputs": [],
   "source": [
    "#returns the position and the velocity of teh ball at the bounce location.\n",
    "def BounceManip(q_m,q_mdot,q_b,q_bdot,h,e,g):\n",
    "    theta = q_m[2]\n",
    "    normal =np.array([sin(theta),-cos(theta)])\n",
    "    tangent = np.array([cos(theta),sin(theta)])\n",
    "    Vel_ball = q_bdot + np.array([0,-h*g])\n",
    "    \n",
    "    Vel_relative = Vel_ball - np.array(q_mdot[0:2])\n",
    "    Veln = -normal.dot(Vel_relative)*e\n",
    "    Velt = tangent.dot(Vel_ball)\n",
    "\n",
    "    Pos_Ball = q_b+ np.array([h*q_bdot[0],h*q_bdot[1]-1/2*g*h*h])\n",
    "\n",
    "    return Pos_Ball,Veln*normal+Velt*tangent\n",
    "\n",
    "#returns the velocity and the position of the ball at the bounce location\n",
    "def BounceFloor(q_m,q_mdot,h,e,g):\n",
    "    Vel_ball = q_mdot[3:5] + [0,-h*g]\n",
    "    \n",
    "    \n",
    "\n",
    "    Pos_Ball = np.array(q_m[3:5]) + np.array([h*q_mdot[3],h*q_mdot[4]-1/2*g*h*h])\n",
    "\n",
    "    return Pos_Ball, [Vel_ball[0],-Vel_ball[1]*e]\n"
   ]
  },
  {
   "cell_type": "code",
   "execution_count": 277,
   "metadata": {},
   "outputs": [
    {
     "name": "stdout",
     "output_type": "stream",
     "text": [
      "[-0.02282995 -0.6796102 ]\n",
      "[ 0.00245147 -0.79140496]\n",
      "[ 0.00397571 -1.31991945]\n",
      "[ 0.00162433 -1.50657602]\n",
      "[ 1.32141761e-03 -1.59294476e+00]\n",
      "[ 9.07651433e-04 -1.59129297e+00]\n",
      "[ 1.87525419e-04 -1.47834636e+00]\n",
      "[ 6.23342423e-04 -1.09044062e+00]\n",
      "[ 0.00514316 -0.0051442 ]\n"
     ]
    },
    {
     "data": {
      "image/png": "[encoded data removed]",
      "text/plain": [
       "<Figure size 720x288 with 1 Axes>"
      ]
     },
     "metadata": {
      "needs_background": "light"
     },
     "output_type": "display_data"
    }
   ],
   "source": [
    "# Ball contraints\n",
    "\n",
    "m = 1 #kg\n",
    "r = .1 #rad\n",
    "\n",
    "g = 9.81 #m/s^2\n",
    "\n",
    "e = .8 #coeff of resitution\n",
    "\n",
    "x0 =.1 #start in m\n",
    "z0 =1 #start in m\n",
    "\n",
    "N = 10 #number of bounces\n",
    "\n",
    "#q_m => x_m, z_m, theta_m, x_b, z_b, \n",
    "# q_mdot => x_mdot, z_mdot, theta_mdot, x_bdot,z_bdot]\n",
    "#This if for bounces on the floor\n",
    "#q_b => x_b z_b\n",
    "\n",
    "prog = MathematicalProgram()\n",
    "h = prog.NewContinuousVariables(2,N,'h')\n",
    "\n",
    "\n",
    "prog.AddBoundingBoxConstraint(0.001,10,h)\n",
    "\n",
    "q_m = prog.NewContinuousVariables(5,N,'q_m')\n",
    "\n",
    "q_mdot = prog.NewContinuousVariables(5,N,'q_mdot')\n",
    "\n",
    "q_b = prog.NewContinuousVariables(2,N,'q_b')\n",
    "q_bdot = prog.NewContinuousVariables(2,N,'q_bdot')\n",
    "\n",
    "x_pos =np.ones((10,1))*.5\n",
    "\n",
    "#This is the constraints for the Z\n",
    "prog.AddConstraint(ge(q_m[1,:],.4)).evaluator().set_description('Min Manip Z ')\n",
    "prog.AddConstraint(le(q_m[1,:],.6)).evaluator().set_description('Max Manip Z ')\n",
    "prog.AddConstraint(ge(q_m[0,:],.2)).evaluator().set_description('Min Manip Z ')\n",
    "prog.AddConstraint(le(q_m[0,:],.7)).evaluator().set_description('Max Manip Z ')\n",
    "\n",
    "#Here are constraints for the Rotation\n",
    "prog.AddConstraint(le(q_m[2,:],np.pi/4)).evaluator().set_description('Max Manip theta ')\n",
    "prog.AddConstraint(ge(q_m[2,:],-np.pi/4)).evaluator().set_description('Min Manip theta ')\n",
    "\n",
    "initialqb = [.5,0]\n",
    "initialq_bdot = np.array([.2,5])\n",
    "\n",
    "initialen = initialq_bdot.dot(initialq_bdot)*m/2\n",
    "\n",
    "\n",
    "for i in range(N-1):\n",
    "    NewPos, newVel = BounceManip(q_m[:,i],q_mdot[:,i],q_b[:,i],q_bdot[:,i],h[0,i],e,g)\n",
    "    theta = q_m[2,i]\n",
    "    Normal = np.array([sin(theta),-cos(theta)])\n",
    "    tangent =  np.array([cos(theta),sin(theta)])\n",
    "    \n",
    "    #Add a contraint to make sure the ball bounces from the the hand to the floor\n",
    "    prog.AddConstraint(eq(q_mdot[3:5,i], newVel)).evaluator().set_description(' Manip Vel ' + str(i))\n",
    "    prog.AddConstraint(eq(q_m[3:5,i], NewPos)).evaluator().set_description(' Manip Pos '+ str(i) )\n",
    "    normdist = np.array((q_m[3:5,i]-q_m[0:2,i])).dot(Normal)\n",
    "    \n",
    "    prog.AddConstraint(normdist == r*r).evaluator().set_description('Manip Bounce '+ str(i) )\n",
    "    \n",
    "\n",
    "    tangentdist = np.array((q_m[3:5,i]-q_m[0:2,i])).dot(tangent)\n",
    "    \n",
    "    prog.AddConstraint(tangentdist >= -.05).evaluator().set_description('Min Manip Distance '+ str(i))\n",
    "    prog.AddConstraint(tangentdist <= .05).evaluator().set_description('Max Manip Distance ' + str(i) )\n",
    "\n",
    "    prog.AddLinearConstraint(q_mdot[0,i] >= -3)\n",
    "    prog.AddLinearConstraint(q_mdot[1,i] <= 0)\n",
    "    prog.AddLinearConstraint(q_mdot[1,i] >= -2)\n",
    "    prog.AddLinearConstraint(q_mdot[0,i] <= 2)\n",
    "    Vel_ball = q_bdot[1,i] - h[0,i]*g\n",
    "\n",
    "\n",
    "    #The ball needs to be still traveling upwards when hit\n",
    "    prog.AddConstraint(Vel_ball >= 0.01).evaluator().set_description('Pos Vel '+ str(i))\n",
    "\n",
    "\n",
    "    ball_floorPos, ball_floorVel = BounceFloor(q_m[:,i],q_mdot[:,i],h[1,i],e,g)\n",
    "    #Add a contraint to make the ball bounce on to the manipulator\n",
    "    prog.AddConstraint(eq(q_b[:,i+1]- ball_floorPos ,0)).evaluator().set_description('Floor Vel ' + str(i))\n",
    "    prog.AddConstraint(eq(q_bdot[:,i+1] , ball_floorVel)).evaluator().set_description('FloorPos ' + str(i) )\n",
    "    prog.AddConstraint(q_b[1,i+1] == r).evaluator().set_description('Floor Bounce ' + str(i))\n",
    "\n",
    "    prog.AddCost(100*(q_b[0,i+1]-x_pos[i])**2)\n",
    "    #prog.AddCost(.1*q_bdot[0,i+1]**2)\n",
    "\n",
    "    energy= q_mdot[3:5,i].dot(q_mdot[3:5,i])*m/2 + q_m[4,i]*m*g\n",
    "    timestepChange = q_m[0:2,i]-q_m[0:2,i+1]\n",
    "    distancesqrd = timestepChange.dot(timestepChange)\n",
    "    value = 10*distancesqrd\n",
    "\n",
    "    #prog.AddCost(10*(energy-initialen)**2)\n",
    "    prog.AddCost(10*q_mdot[0:2,i].dot(q_mdot[0:2,i]))\n",
    "    #cost to how far you are from the previous point\n",
    "    #prog.AddCost(value)\n",
    "    #cost to how much how far you are from the ball\n",
    "    #prog.AddCost(10*q_mdot[0:2,i].dot(q_mdot[3:5,i]))\n",
    "\n",
    "    prog.AddCost(30*q_bdot[0,i+1]**2)\n",
    "    prog.AddCost(100*(q_m[0,i]-q_b[0,i+1])**2)\n",
    "    #prog.AddCost(-100*(h[0,i]+h[1,i]))\n",
    "\n",
    "    \n",
    "    \n",
    "\n",
    "\n",
    "\n",
    "prog.AddConstraint(eq(q_b[:,0],initialqb))\n",
    "prog.AddConstraint(eq(q_bdot[:,0],initialq_bdot))\n",
    "\n",
    "\n",
    "for i in range(N-1):\n",
    "    q_m_guess = [0,0,0,0,0]\n",
    "    q_mdot_guess =[0,0,0,0,0]\n",
    "    h_guess=.1\n",
    "    NewPos, NewVel=BounceManip(q_m_guess,q_mdot_guess,initialqb,initialq_bdot,h_guess,e,g)\n",
    "    q_m_guess = [NewPos[0],NewPos[1],0,NewPos[0], NewPos[1]]\n",
    "    q_mdot_guess = [0,0,0,NewVel[0],NewVel[1]]\n",
    "\n",
    "    prog.SetInitialGuess(q_m[:,i],q_m_guess)\n",
    "    prog.SetInitialGuess(q_mdot[:,i],q_mdot_guess)\n",
    "\n",
    "    prog.SetInitialGuess(h[0,i],h_guess)\n",
    "    prog.SetInitialGuess(h[1,i],h_guess)\n",
    "\n",
    "    \n",
    "\n",
    "    ball_floorPos, ball_floorVel = BounceFloor(q_m_guess,q_mdot_guess,h_guess,e,g)\n",
    " \n",
    "    prog.SetInitialGuess(q_b[:,i+1],ball_floorPos)\n",
    "    prog.SetInitialGuess(q_bdot[:,i+1],ball_floorVel)\n",
    "\n",
    "\n",
    "result = Solve(prog)\n",
    "\n",
    "\n",
    "\n",
    "if not result.is_success():\n",
    "    infesible = result.GetInfeasibleConstraints(prog)\n",
    "    print(\"Infeasible Constraints:\")\n",
    "    for i in range(len(infesible)):\n",
    "        print(infesible[i])\n",
    "\n",
    "\n",
    "fig, ax = plt.subplots(figsize=(10,4))\n",
    "ax.set_xlabel('x')\n",
    "ax.set_ylabel('z')\n",
    "\n",
    "relative_time = np.linspace(0, 1, 10)\n",
    "\n",
    "x_start=initialqb[0]\n",
    "z_start=0\n",
    "for i in range(N):\n",
    "    t = result.GetSolution(h[0,i])*relative_time\n",
    "    x = x_start+ result.GetSolution(q_bdot[0,i])*t\n",
    "    z = z_start + result.GetSolution(q_bdot[1,i])*t - .5*g*t*t\n",
    "    ax.plot(x, z, '.-')\n",
    "    x_start = x[-1]\n",
    "    z_start = z[-1]\n",
    "\n",
    "    if i is not N-1:\n",
    "        t = result.GetSolution(h[1,i])*relative_time\n",
    "        x = x_start+ result.GetSolution(q_mdot[3,i])*t\n",
    "        z = z_start + result.GetSolution(q_mdot[4,i])*t - .5*g*t*t\n",
    "        x_m = result.GetSolution(q_m[0,i])\n",
    "        y_m = result.GetSolution(q_m[1,i])\n",
    "        theta_m = result.GetSolution(q_m[2,i])\n",
    "\n",
    "        print(result.GetSolution(q_mdot[0:2,i]))\n",
    "        \n",
    "        Normal = np.array([sin(theta_m),-cos(theta_m)])\n",
    "        tangent =  np.array([cos(theta_m),sin(theta_m)])\n",
    "\n",
    "        pos = [x_m,y_m] + Normal*.005 - tangent*0.05\n",
    "        \n",
    "        ax.plot(x, z, '.-')\n",
    "        ax.plot(x_m,y_m,'ro')\n",
    "        tangent = np.array([])\n",
    "     \n",
    "        ax.add_patch(mpatches.Rectangle(pos,.1,.01,angle=theta_m*180/np.pi))\n",
    "        x_start = x[-1]\n",
    "        z_start = z[-1]\n",
    "\n",
    "\n"
   ]
  },
  {
   "cell_type": "code",
   "execution_count": 278,
   "metadata": {},
   "outputs": [
    {
     "name": "stdout",
     "output_type": "stream",
     "text": [
      "2.1510148376626286\n",
      "2.361642548389075\n",
      "1.945499084075333\n",
      "1.7627260887570786\n",
      "1.6574676135160904\n",
      "1.5675907554115835\n",
      "1.4016329233041473\n",
      "1.010798606704925\n",
      "4.6066211777924515\n",
      "[[-2.28299514e-02  2.45146893e-03  3.97571398e-03  1.62433164e-03\n",
      "   1.32141761e-03  9.07651433e-04  1.87525419e-04  6.23342423e-04\n",
      "   5.14316131e-03  0.00000000e+00]\n",
      " [-6.79610203e-01 -7.91404960e-01 -1.31991945e+00 -1.50657602e+00\n",
      "  -1.59294476e+00 -1.59129297e+00 -1.47834636e+00 -1.09044062e+00\n",
      "  -5.14419576e-03  0.00000000e+00]\n",
      " [ 0.00000000e+00  0.00000000e+00  0.00000000e+00  0.00000000e+00\n",
      "   0.00000000e+00  0.00000000e+00  0.00000000e+00  0.00000000e+00\n",
      "   0.00000000e+00  0.00000000e+00]]\n"
     ]
    }
   ],
   "source": [
    "h_res = result.GetSolution(h)\n",
    "q_m_res = result.GetSolution(q_m)\n",
    "q_mdot_res = result.GetSolution(q_mdot)\n",
    "for i in range(N-1):\n",
    "    print(q_m_res[0:3,i].dot(q_m_res[0:3,i])/(h_res[0,i]+h_res[1,i+1]))\n",
    "\n",
    "print(q_mdot_res[0:3,:])"
   ]
  },
  {
   "cell_type": "markdown",
   "metadata": {},
   "source": [
    "Ok so Now the above is working and producing an optimized trajectory that we can believe.\n",
    "THe speeds are also not too high.\n",
    "We'll see how it goes from there. So Now we need to link the previous solution to the new thing!"
   ]
  },
  {
   "cell_type": "code",
   "execution_count": 279,
   "metadata": {},
   "outputs": [
    {
     "name": "stdout",
     "output_type": "stream",
     "text": [
      "[[ 5.24286345e-01  5.11286028e-01  5.07329203e-01  5.04890339e-01\n",
      "   5.03193374e-01  5.01972202e-01  5.00892094e-01  5.00331162e-01\n",
      "   5.27925809e-01  2.00000000e-01]\n",
      " [ 6.00000000e-01  6.00000000e-01  4.00000000e-01  4.00000000e-01\n",
      "   4.00000000e-01  4.00000000e-01  4.00000000e-01  4.00000000e-01\n",
      "   4.00000000e-01  4.00000000e-01]\n",
      " [-2.28299514e-02  2.45146893e-03  3.97571398e-03  1.62433164e-03\n",
      "   1.32141761e-03  9.07651433e-04  1.87525419e-04  6.23342423e-04\n",
      "   5.14316131e-03  0.00000000e+00]\n",
      " [-6.79610203e-01 -7.91404960e-01 -1.31991945e+00 -1.50657602e+00\n",
      "  -1.59294476e+00 -1.59129297e+00 -1.47834636e+00 -1.09044062e+00\n",
      "  -5.14419576e-03  0.00000000e+00]]\n"
     ]
    },
    {
     "data": {
      "text/plain": [
       "[<matplotlib.lines.Line2D at 0x7fcd35295370>]"
      ]
     },
     "execution_count": 279,
     "metadata": {},
     "output_type": "execute_result"
    },
    {
     "data": {
      "image/png": "[encoded data removed]",
      "text/plain": [
       "<Figure size 432x288 with 1 Axes>"
      ]
     },
     "metadata": {
      "needs_background": "light"
     },
     "output_type": "display_data"
    }
   ],
   "source": [
    "#function to do differitial:\n",
    "def DiffPos(state,next_State,timestep):\n",
    "    A = np.array([[1,0,timestep,0],\n",
    "                   [0,1,0,timestep]])\n",
    "    NextPos = A@state\n",
    "\n",
    "    return NextPos\n",
    "\n",
    "\n",
    "\n",
    "\n",
    "pointsBetween = 5 #number of poitns between each different part\n",
    "TotalN = pointsBetween*N\n",
    "\n",
    "Optimizer = MathematicalProgram()\n",
    "\n",
    "#X Y Xdot Y Dot\n",
    "\n",
    "x_step = prog.NewContinuousVariables(4,TotalN,'x_step')\n",
    "timestep = prog.NewContinuousVariables(1,TotalN,'timestep')\n",
    "prog.AddBoundingBoxConstraint(0.001,10,timestep)\n",
    "#Add Bounce Constraints\n",
    "x_bounce = np.concatenate((q_m_res[0:2,:],q_mdot_res[0:2,:]))\n",
    "\n",
    "print(x_bounce)\n",
    "for i in range(N):\n",
    "    prog.AddConstraint(eq(x_step[:,i*pointsBetween], x_bounce[:,i]))\n",
    "\n",
    "\n",
    "for i in range(TotalN-1):\n",
    "    nextPos = DiffPos(x_step[:,i],x_step[:,i+1],timestep[0,i])\n",
    "    prog.AddConstraint(eq(x_step[0:2,i+1],nextPos))\n",
    "    prog.AddCost((x_step[2:,i]-x_step[2:,i+1]).dot(x_step[2:,i]-x_step[2:,i+1]))\n",
    "\n",
    "\n",
    "result = Solve(prog)\n",
    "x_sol = result.GetSolution(x_step)\n",
    "\n",
    "plt.figure()\n",
    "plt.plot(x_sol[0,:],x_sol[1,:])\n",
    "plt.plot(q_m_res[0,:],q_m_res[1,:],'rp')\n",
    "\n"
   ]
  },
  {
   "cell_type": "code",
   "execution_count": null,
   "metadata": {},
   "outputs": [],
   "source": []
  },
  {
   "cell_type": "code",
   "execution_count": 243,
   "metadata": {},
   "outputs": [],
   "source": [
    "# Imports\n",
    "import numpy as np\n",
    "import altair as alt\n",
    "import pydot\n",
    "from IPython.display import display, SVG, clear_output\n",
    "import plotly.express as px\n",
    "\n",
    "from pydrake.all import (\n",
    "    AddMultibodyPlantSceneGraph, AngleAxis, BasicVector, \n",
    "    DiagramBuilder, FindResourceOrThrow, Integrator, JacobianWrtVariable, \n",
    "    LeafSystem, MeshcatVisualizerCpp, MultibodyPlant, MultibodyPositionToGeometryPose, Parser,\n",
    "    PiecewisePose, PiecewisePolynomial, Quaternion, RigidTransform, \n",
    "    RollPitchYaw, RotationMatrix, SceneGraph, Simulator, TrajectorySource\n",
    ")\n",
    "from pydrake.examples.manipulation_station import ManipulationStation\n",
    "\n",
    "\n",
    "from manipulation.meshcat_cpp_utils import (\n",
    "    StartMeshcat)\n",
    "from manipulation.scenarios import AddMultibodyTriad, SetColor\n",
    "\n",
    "# TODO(russt): Move this to drake (adding the element name support to the base class).\n",
    "import pandas as pd\n",
    "def dataframe(trajectory, times, names):\n",
    "  assert trajectory.rows() == len(names)\n",
    "  values = trajectory.vector_values(times)\n",
    "  data = {'t': times }\n",
    "  for i in range(len(names)):\n",
    "    data[names[i]] = values[i,:]\n",
    "  return pd.DataFrame(data)"
   ]
  },
  {
   "cell_type": "code",
   "execution_count": 244,
   "metadata": {},
   "outputs": [
    {
     "data": {
      "text/html": [
       "Meshcat is now available at <a href=\"http://localhost:7013\">http://localhost:7013</a>"
      ],
      "text/plain": [
       "<IPython.core.display.HTML object>"
      ]
     },
     "metadata": {},
     "output_type": "display_data"
    }
   ],
   "source": [
    "meshcat = StartMeshcat()"
   ]
  },
  {
   "cell_type": "code",
   "execution_count": 280,
   "metadata": {},
   "outputs": [
    {
     "name": "stdout",
     "output_type": "stream",
     "text": [
      "[0.25653393 0.58504641 0.79430847 1.02660049 1.27269169 1.52882678\n",
      " 1.79933392 2.11163057 2.56844526 2.57044526]\n"
     ]
    },
    {
     "data": {
      "text/html": [
       "\n",
       "<div id=\"altair-viz-9a202109a88f4675ba4080484935a37a\"></div>\n",
       "<script type=\"text/javascript\">\n",
       "  (function(spec, embedOpt){\n",
       "    let outputDiv = document.currentScript.previousElementSibling;\n",
       "    if (outputDiv.id !== \"altair-viz-9a202109a88f4675ba4080484935a37a\") {\n",
       "      outputDiv = document.getElementById(\"altair-viz-9a202109a88f4675ba4080484935a37a\");\n",
       "    }\n",
       "    const paths = {\n",
       "      \"vega\": \"https://cdn.jsdelivr.net/npm//vega@5?noext\",\n",
       "      \"vega-lib\": \"https://cdn.jsdelivr.net/npm//vega-lib?noext\",\n",
       "      \"vega-lite\": \"https://cdn.jsdelivr.net/npm//vega-lite@4.8.1?noext\",\n",
       "      \"vega-embed\": \"https://cdn.jsdelivr.net/npm//vega-embed@6?noext\",\n",
       "    };\n",
       "\n",
       "    function loadScript(lib) {\n",
       "      return new Promise(function(resolve, reject) {\n",
       "        var s = document.createElement('script');\n",
       "        s.src = paths[lib];\n",
       "        s.async = true;\n",
       "        s.onload = () => resolve(paths[lib]);\n",
       "        s.onerror = () => reject(`Error loading script: ${paths[lib]}`);\n",
       "        document.getElementsByTagName(\"head\")[0].appendChild(s);\n",
       "      });\n",
       "    }\n",
       "\n",
       "    function showError(err) {\n",
       "      outputDiv.innerHTML = `<div class=\"error\" style=\"color:red;\">${err}</div>`;\n",
       "      throw err;\n",
       "    }\n",
       "\n",
       "    function displayChart(vegaEmbed) {\n",
       "      vegaEmbed(outputDiv, spec, embedOpt)\n",
       "        .catch(err => showError(`Javascript Error: ${err.message}<br>This usually means there's a typo in your chart specification. See the javascript console for the full traceback.`));\n",
       "    }\n",
       "\n",
       "    if(typeof define === \"function\" && define.amd) {\n",
       "      requirejs.config({paths});\n",
       "      require([\"vega-embed\"], displayChart, err => showError(`Error loading script: ${err.message}`));\n",
       "    } else if (typeof vegaEmbed === \"function\") {\n",
       "      displayChart(vegaEmbed);\n",
       "    } else {\n",
       "      loadScript(\"vega\")\n",
       "        .then(() => loadScript(\"vega-lite\"))\n",
       "        .then(() => loadScript(\"vega-embed\"))\n",
       "        .catch(showError)\n",
       "        .then(() => displayChart(vegaEmbed));\n",
       "    }\n",
       "  })({\"config\": {\"view\": {\"continuousWidth\": 400, \"continuousHeight\": 300}}, \"vconcat\": [{\"mark\": \"line\", \"encoding\": {\"x\": {\"type\": \"quantitative\", \"field\": \"t\"}, \"y\": {\"type\": \"quantitative\", \"field\": \"x\"}}, \"height\": 80}, {\"mark\": \"line\", \"encoding\": {\"x\": {\"type\": \"quantitative\", \"field\": \"t\"}, \"y\": {\"type\": \"quantitative\", \"field\": \"y\"}}, \"height\": 80}, {\"mark\": \"line\", \"encoding\": {\"x\": {\"type\": \"quantitative\", \"field\": \"t\"}, \"y\": {\"type\": \"quantitative\", \"field\": \"z\"}}, \"height\": 80}], \"data\": {\"name\": \"data-072c3c710d087d583cf3bf131fb1de1c\"}, \"$schema\": \"https://vega.github.io/schema/vega-lite/v4.8.1.json\", \"datasets\": {\"data-072c3c710d087d583cf3bf131fb1de1c\": [{\"t\": 0.2565339285485372, \"x\": -0.02282995137826684, \"y\": -0.6796102026099573, \"z\": 0.0}, {\"t\": 0.3037566088284553, \"x\": -0.04089601907237883, \"y\": -0.15250599296796868, \"z\": 0.08244912349959434}, {\"t\": 0.3509792891083734, \"x\": -0.05167606798749974, \"y\": 0.1922229649516911, \"z\": 0.13721527721214552}, {\"t\": 0.39820196938829155, \"x\": -0.055170098123629566, \"y\": 0.3545766711490219, \"z\": 0.1642984611376535}, {\"t\": 0.44542464966820966, \"x\": -0.05137810948076833, \"y\": 0.33455512562402423, \"z\": 0.1636986752761184}, {\"t\": 0.49264732994812777, \"x\": -0.040300102058916, \"y\": 0.13215832837669694, \"z\": 0.13541591962754007}, {\"t\": 0.5398700102280459, \"x\": -0.021936075858072557, \"y\": -0.2526137205929597, \"z\": 0.0794501941919184}, {\"t\": 0.5870926905079641, \"x\": 0.0011811379534115121, \"y\": -0.7907677946405945, \"z\": -2.330050886871454e-05}, {\"t\": 0.6343153707878821, \"x\": -0.021082647847156452, \"y\": -0.8079173095746581, \"z\": -0.00043316466446081893}, {\"t\": 0.6815380510678002, \"x\": -0.029827977666228682, \"y\": -0.886128122407629, \"z\": -0.0005979478094381344}, {\"t\": 0.7287607313477183, \"x\": -0.025054851503805126, \"y\": -1.0254002331395076, \"z\": -0.0005176499438006607}, {\"t\": 0.7759834116276365, \"x\": -0.006763269359885776, \"y\": -1.2257336417702935, \"z\": -0.00019227106754839693}, {\"t\": 0.8232060919075547, \"x\": -0.0050085600321226696, \"y\": -0.4195014495241892, \"z\": -0.005440465364514235}, {\"t\": 0.8704287721874727, \"x\": -0.01437443301846838, \"y\": 0.4870306712361717, \"z\": -0.011003678261893263}, {\"t\": 0.9176514524673909, \"x\": -0.017144956778983568, \"y\": 0.6927012475017613, \"z\": -0.012438638528430373}, {\"t\": 0.9648741327473089, \"x\": -0.013320131313668215, \"y\": 0.19751027927257958, \"z\": -0.009745346164125562}, {\"t\": 1.012096813027227, \"x\": -0.0028999566225223344, \"y\": -0.9985422334513743, \"z\": -0.0029238011689788346}, {\"t\": 1.0593194933071453, \"x\": -0.004204192229629772, \"y\": -0.44614130839132404, \"z\": -0.0007000349900558038}, {\"t\": 1.1065421735870633, \"x\": -0.009486463749331056, \"y\": 0.5047373566478797, \"z\": -0.0013318467342983132}, {\"t\": 1.1537648538669814, \"x\": -0.011070958540128122, \"y\": 0.7708299691677216, \"z\": -0.0015164467832294317}, {\"t\": 1.2009875341468996, \"x\": -0.008957676602020955, \"y\": 0.35213652916819704, \"z\": -0.001253835136849157}, {\"t\": 1.2482102144268177, \"x\": -0.003146617935009567, \"y\": -0.7513429633506883, \"z\": -0.0005440117951574907}, {\"t\": 1.2954328947067357, \"x\": -0.0015706562928671213, \"y\": -0.8199547301665919, \"z\": -0.0004903217911431765}, {\"t\": 1.342655574986654, \"x\": -0.0057987456165841875, \"y\": 0.30410315427468837, \"z\": -0.0012032744705812737}, {\"t\": 1.3898782552665723, \"x\": -0.007627528299517729, \"y\": 0.7787497552513916, \"z\": -0.001504215461684926}, {\"t\": 1.43710093554649, \"x\": -0.007057004341667762, \"y\": 0.603985072763523, \"z\": -0.0013931447644541365}, {\"t\": 1.4843236158264084, \"x\": -0.004087173743034276, \"y\": -0.2201908931889207, \"z\": -0.0008700623788889025}, {\"t\": 1.5315462961063262, \"x\": 0.0006292816124141446, \"y\": -1.4985074514889716, \"z\": -9.82213757308118e-05}, {\"t\": 1.5787689763862445, \"x\": -0.0033264021266052254, \"y\": -0.18414661150505546, \"z\": -0.0014856916831864028}, {\"t\": 1.6259916566661627, \"x\": -0.005621628921952176, \"y\": 0.5689305489911249, \"z\": -0.0022716339632031096}, {\"t\": 1.6732143369460806, \"x\": -0.006256398773626708, \"y\": 0.760724029999571, \"z\": -0.0024560482157809332}, {\"t\": 1.7204370172259988, \"x\": -0.005230711681628836, \"y\": 0.391233831520287, \"z\": -0.002038934440919879}, {\"t\": 1.7676596975059171, \"x\": -0.0025445676459585342, \"y\": -0.5395400464467333, \"z\": -0.001020292638619938}, {\"t\": 1.814882377785835, \"x\": -0.00041570052758310526, \"y\": -1.0944558383974854, \"z\": 0.0004078347210570338}, {\"t\": 1.8621050580657532, \"x\": -0.001846297184134681, \"y\": -0.16275127088869312, \"z\": 0.0013844706962480849}, {\"t\": 1.9093277383456715, \"x\": -0.002672829496052153, \"y\": 0.41654513302581997, \"z\": 0.001966885378579529}, {\"t\": 1.9565504186255893, \"x\": -0.0028952974633355225, \"y\": 0.6434333733460531, \"z\": 0.002155078768051366}, {\"t\": 2.0037730989055076, \"x\": -0.0025137010859847923, \"y\": 0.5179134500720113, \"z\": 0.0019490508646636006}, {\"t\": 2.050995779185426, \"x\": -0.0015280403639999583, \"y\": 0.03998536320368995, \"z\": 0.001348801668416228}, {\"t\": 2.0982184594653437, \"x\": 6.168470261896063e-05, \"y\": -0.7903508872589011, \"z\": 0.00035433117930925954}, {\"t\": 2.145441139745262, \"x\": 0.024612316944259766, \"y\": -0.7848536774797517, \"z\": 0.7064804450630986}, {\"t\": 2.1926638200251802, \"x\": 0.051788412627030364, \"y\": -0.4183152879127747, \"z\": 1.5041863324927895}, {\"t\": 2.239886500305098, \"x\": 0.07158806614062425, \"y\": -0.12202237954274214, \"z\": 2.0815821691179313}, {\"t\": 2.2871091805850163, \"x\": 0.08401127748504181, \"y\": 0.10402504763035164, \"z\": 2.438667954938534}, {\"t\": 2.3343318608649346, \"x\": 0.0890580466602828, \"y\": 0.25982699360650363, \"z\": 2.575443689954592}, {\"t\": 2.381554541144853, \"x\": 0.08672837366634724, \"y\": 0.3453834583857136, \"z\": 2.491909374166105}, {\"t\": 2.4287772214247707, \"x\": 0.07702225850323524, \"y\": 0.3606944419679816, \"z\": 2.1880650075730763}, {\"t\": 2.475999901704689, \"x\": 0.0599397011709466, \"y\": 0.30575994435330855, \"z\": 1.663910590175501}, {\"t\": 2.5232225819846072, \"x\": 0.03548070166948142, \"y\": 0.18057996554169353, \"z\": 0.9194461219733796}, {\"t\": 2.570445262264525, \"x\": 1.1368683772161603e-13, \"y\": -1.734723475976807e-18, \"z\": 0.0}]}}, {\"mode\": \"vega-lite\"});\n",
       "</script>"
      ],
      "text/plain": [
       "alt.VConcatChart(...)"
      ]
     },
     "execution_count": 280,
     "metadata": {},
     "output_type": "execute_result"
    }
   ],
   "source": [
    "times = np.cumsum(np.sum(h_res,axis=0))\n",
    "print(times)\n",
    "poly = PiecewisePolynomial.CubicHermite(times,q_m_res[0:3,:],q_mdot_res[0:3,:])\n",
    "\n",
    "traj_v_G = poly.MakeDerivative()\n",
    "\n",
    "data = dataframe(traj_v_G, np.linspace(traj_v_G.start_time(), traj_v_G.end_time()), ['x','y','z'])\n",
    "alt.vconcat(\n",
    "  alt.Chart(data).mark_line().encode(x='t', y='x').properties(height=80),\n",
    "  alt.Chart(data).mark_line().encode(x='t', y='y').properties(height=80),\n",
    "  alt.Chart(data).mark_line().encode(x='t', y='z').properties(height=80),\n",
    ")"
   ]
  },
  {
   "cell_type": "markdown",
   "metadata": {},
   "source": [
    "\n",
    "\n",
    "time = np.cumsum(np.sum(h_res,axis=0))\n",
    "xpos = np.ndarray([0,1,0],order='F')\n",
    "xpos.setflags(write=True)\n",
    "\n",
    "poly = PiecewisePolynomial.CubicHermite(breaks=time,samples=q_m_res[0:3,:],samples_dot=q_mdot_res[0:3,:])\n",
    "\n",
    "t = np.linspace(0,time[-1],200)\n",
    "\n",
    "plt.figure()\n",
    "res = poly.vector_values(t)\n",
    "der = poly.derivative()\n",
    "res_der = der.vector_values(t)\n",
    "plt.plot(res[0,:],res[1,:],'b-')\n",
    "plt.plot(q_m_res[0,:],q_m_res[1,:],'rp')\n",
    "\n",
    "plt.plot(q_m_res[0,-1],q_m_res[1,-1],'yp')\n",
    "\n",
    "plt.figure()\n",
    "plt.plot(res_der[0,:],res_der[1,:],'b-')\n",
    "plt.plot(q_mdot_res[0,:],q_mdot_res[1,:],'rp')\n",
    "plt.plot(q_mdot_res[0,-1],q_mdot_res[1,-1],'yp')"
   ]
  },
  {
   "cell_type": "code",
   "execution_count": 281,
   "metadata": {},
   "outputs": [],
   "source": [
    "#We can write a new System by deriving from the LeafSystem class.\n",
    "# There is a little bit of boiler plate, but hopefully this example makes sense.\n",
    "class PseudoInverseController(LeafSystem):\n",
    "    def __init__(self, plant):\n",
    "        LeafSystem.__init__(self)\n",
    "        self._plant = plant\n",
    "        self._plant_context = plant.CreateDefaultContext()\n",
    "        self._iiwa = plant.GetModelInstanceByName(\"iiwa\")\n",
    "        self._G = plant.GetBodyByName(\"body\").body_frame()\n",
    "        self._W = plant.world_frame()\n",
    "\n",
    "        self.v_G_port = self.DeclareVectorInputPort(\"v_WG\", BasicVector(3))\n",
    "        self.q_port = self.DeclareVectorInputPort(\"iiwa_position\", BasicVector(3))\n",
    "        self.DeclareVectorOutputPort(\"iiwa_velocity\", BasicVector(3), \n",
    "                                     self.CalcOutput)\n",
    "        # TODO(russt): Add missing binding\n",
    "        #joint_indices = plant.GetJointIndices(self._iiwa)\n",
    "        #self.position_start = plant.get_joint(joint_indices[0]).position_start()\n",
    "        #self.position_end = plant.get_joint(joint_indices[-1]).position_start()\n",
    "        self.iiwa_start = plant.GetJointByName(\"iiwa_joint_1\").velocity_start()\n",
    "        self.iiwa_end = plant.GetJointByName(\"iiwa_joint_7\").velocity_start()\n",
    "\n",
    "    def CalcOutput(self, context, output):\n",
    "       \n",
    "        V_G = self.v_G_port.Eval(context)\n",
    "        \n",
    "        q = self.q_port.Eval(context)\n",
    "        self._plant.SetPositions(self._plant_context, self._iiwa, q)\n",
    "        \n",
    "        J_G = self._plant.CalcJacobianSpatialVelocity(\n",
    "            self._plant_context, JacobianWrtVariable.kV, \n",
    "            self._G, [0,0,0], self._W, self._W)\n",
    "\n",
    "            \n",
    "        J_G = J_G[(3,5,1),0:3] # Only iiwa terms.\n",
    "        v = np.linalg.pinv(J_G).dot(V_G)\n",
    "        output.SetFromVector(v)"
   ]
  },
  {
   "cell_type": "code",
   "execution_count": 253,
   "metadata": {},
   "outputs": [],
   "source": [
    "  \n",
    "  # builder = DiagramBuilder()\n",
    "\n",
    "  # # Add ManipulationStation \n",
    "  # station = builder.AddSystem(ManipulationStation(time_step = 1e-3))\n",
    "  # station.SetupPlanarIiwaStation()\n",
    "  # station.Finalize()\n",
    "\n",
    "  "
   ]
  },
  {
   "cell_type": "code",
   "execution_count": 286,
   "metadata": {},
   "outputs": [
    {
     "data": {
      "text/plain": [
       "<pydrake.systems.framework.FixedInputPortValue at 0x7fcd350ef7f0>"
      ]
     },
     "execution_count": 286,
     "metadata": {},
     "output_type": "execute_result"
    }
   ],
   "source": [
    "X_O = {\"initial\": RigidTransform(RotationMatrix.MakeZRotation(np.pi/2.0), [-.2, -.65, 0.09]),\n",
    "       \"goal\": RigidTransform(RotationMatrix.MakeZRotation(np.pi),[.5, 0, 0.09])}\n",
    "\n",
    "builder = DiagramBuilder()\n",
    "\n",
    "station = builder.AddSystem(ManipulationStation())\n",
    "station.SetupPlanarIiwaStation()\n",
    "\n",
    "station.Finalize()\n",
    "  \n",
    "\n",
    "\n",
    "# Find the initial pose of the gripper (as set in the default Context)\n",
    "temp_context = station.CreateDefaultContext()\n",
    "plant = station.get_multibody_plant()\n",
    "#display(SVG(pydot.graph_from_dot_data(plant.GetTopologyGraphvizString())[0].create_svg()))\n",
    "temp_plant_context = plant.GetMyContextFromRoot(temp_context)\n",
    "X_G = {\"initial\": plant.EvalBodyPoseInWorld(temp_plant_context, plant.GetBodyByName(\"body\"))}\n",
    "\n",
    "x = X_G[\"initial\"].translation()\n",
    "r = X_G[\"initial\"].rotation()\n",
    "\n",
    "rz= RollPitchYaw(r).pitch_angle()\n",
    "\n",
    "newTheta = q_m_res[2,:]*-1\n",
    "\n",
    "\n",
    "newTime = np.concatenate(([0],times))*3\n",
    "#print(newTheta.shape)\n",
    "finalQ_m = np.concatenate((q_m_res[0:2,:],[newTheta]),axis =0)\n",
    "\n",
    "propr_der= np.concatenate(([[x[0]],[x[2]],[rz]],finalQ_m),axis =1)\n",
    "v_dot = np.concatenate(([[0],[0],[0]],q_mdot_res[0:3,:]),axis=1)\n",
    "\n",
    "poly = PiecewisePolynomial.CubicHermite(newTime,propr_der,v_dot)\n",
    "\n",
    "traj_v_G = poly.MakeDerivative()\n",
    "\n",
    "\n",
    "\n",
    "v_G_source = builder.AddSystem(TrajectorySource(traj_v_G))\n",
    "v_G_source.set_name(\"v_WG\")\n",
    "controller = builder.AddSystem(PseudoInverseController(plant))\n",
    "controller.set_name(\"PseudoInverseController\")\n",
    "builder.Connect(v_G_source.get_output_port(), controller.GetInputPort(\"v_WG\"))\n",
    "\n",
    "integrator = builder.AddSystem(Integrator(3))\n",
    "integrator.set_name(\"integrator\")\n",
    "builder.Connect(controller.get_output_port(), \n",
    "                integrator.get_input_port())\n",
    "builder.Connect(integrator.get_output_port(),\n",
    "                station.GetInputPort(\"iiwa_position\"))\n",
    "builder.Connect(station.GetOutputPort(\"iiwa_position_measured\"),\n",
    "                controller.GetInputPort(\"iiwa_position\"))\n",
    "\n",
    "\n",
    "meshcat.Delete()\n",
    "visualizer = MeshcatVisualizerCpp.AddToBuilder(\n",
    "    builder, station.GetOutputPort(\"query_object\"), meshcat)\n",
    "\n",
    "diagram = builder.Build()\n",
    "diagram.set_name(\"pick_and_place\")\n",
    "\n",
    "simulator = Simulator(diagram)\n",
    "station_context = station.GetMyContextFromRoot(simulator.get_mutable_context())\n",
    "# TODO(russt): Add this missing python binding\n",
    "#integrator.set_integral_value(\n",
    "#    integrator.GetMyContextFromRoot(simulator.get_mutable_context()), \n",
    "#        station.GetIiwaPosition(station_context))\n",
    "integrator.GetMyContextFromRoot(simulator.get_mutable_context()).get_mutable_continuous_state_vector().SetFromVector(station.GetIiwaPosition(station_context))\n",
    "\n",
    "simulator.set_target_realtime_rate(.5)\n",
    "\n",
    "station_context = station.GetMyContextFromRoot(simulator.get_mutable_context())\n",
    "station.GetInputPort(\"wsg_position\").FixValue(station_context, [0.08])\n",
    "#meshcat.start_recording()\n",
    "\n",
    "#meshcat.stop_recording()\n",
    "#meshcat.publish_recording()\n"
   ]
  },
  {
   "cell_type": "code",
   "execution_count": 287,
   "metadata": {},
   "outputs": [],
   "source": [
    "val = 0\n",
    "#draw all of the poses here to sanity check stuff\n",
    "for i in propr_der.T:\n",
    "    val = val +1\n",
    "    w = RotationMatrix.MakeYRotation(i[2])\n",
    "    r = [i[0],0,i[1]] \n",
    "    AddMeshcatTriad(meshcat,\"pos/\"+ str(val),length = .15,radius = .006,X_PT=RigidTransform(w,r)) \n",
    "    "
   ]
  },
  {
   "cell_type": "code",
   "execution_count": 288,
   "metadata": {},
   "outputs": [
    {
     "data": {
      "text/plain": [
       "<pydrake.systems.analysis.SimulatorStatus at 0x7fcd3529a6b0>"
      ]
     },
     "execution_count": 288,
     "metadata": {},
     "output_type": "execute_result"
    }
   ],
   "source": [
    "simulator.AdvanceTo(0.01)"
   ]
  },
  {
   "cell_type": "code",
   "execution_count": 290,
   "metadata": {},
   "outputs": [
    {
     "data": {
      "text/plain": [
       "<pydrake.systems.analysis.SimulatorStatus at 0x7fcd3529ac70>"
      ]
     },
     "execution_count": 290,
     "metadata": {},
     "output_type": "execute_result"
    }
   ],
   "source": [
    "#meshcat.start_recording()\n",
    "simulator.AdvanceTo(10)\n",
    "#meshcat.stop_recording()\n",
    "#meshcat.publish_recording()\n"
   ]
  }
 ],
 "metadata": {
  "interpreter": {
   "hash": "916dbcbb3f70747c44a77c7bcd40155683ae19c65e1c03b4aa3499c5328201f1"
  },
  "kernelspec": {
   "display_name": "Python 3.8.10 64-bit",
   "language": "python",
   "name": "python3"
  },
  "language_info": {
   "codemirror_mode": {
    "name": "ipython",
    "version": 3
   },
   "file_extension": ".py",
   "mimetype": "text/x-python",
   "name": "python",
   "nbconvert_exporter": "python",
   "pygments_lexer": "ipython3",
   "version": "3.8.10"
  },
  "orig_nbformat": 4
 },
 "nbformat": 4,
 "nbformat_minor": 2
}
