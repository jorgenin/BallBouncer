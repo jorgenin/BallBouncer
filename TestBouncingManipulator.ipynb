{
 "cells": [
  {
   "cell_type": "code",
   "execution_count": 16,
   "metadata": {},
   "outputs": [],
   "source": [
    "from MakeBallBounceSetup import MakeManipulationStation\n",
    "# Imports\n",
    "import numpy as np\n",
    "import altair as alt\n",
    "import pydot\n",
    "from IPython.display import display, SVG, clear_output\n",
    "import plotly.express as px\n",
    "\n",
    "from pydrake.all import (\n",
    "    AddMultibodyPlantSceneGraph, AngleAxis, BasicVector, \n",
    "    DiagramBuilder, FindResourceOrThrow, Integrator, JacobianWrtVariable, \n",
    "    LeafSystem, MeshcatVisualizerCpp, MultibodyPlant, MultibodyPositionToGeometryPose, Parser,\n",
    "    PiecewisePose, PiecewisePolynomial, Quaternion, RigidTransform, \n",
    "    RollPitchYaw, RotationMatrix, SceneGraph, Simulator, TrajectorySource\n",
    ")\n",
    "from pydrake.examples.manipulation_station import ManipulationStation\n",
    "\n",
    "\n",
    "from manipulation.meshcat_cpp_utils import (\n",
    "    StartMeshcat, AddMeshcatTriad)\n",
    "from manipulation.scenarios import AddMultibodyTriad, SetColor\n",
    "\n",
    "# TODO(russt): Move this to drake (adding the element name support to the base class).\n",
    "import pandas as pd\n",
    "def dataframe(trajectory, times, names):\n",
    "  assert trajectory.rows() == len(names)\n",
    "  values = trajectory.vector_values(times)\n",
    "  data = {'t': times }\n",
    "  for i in range(len(names)):\n",
    "    data[names[i]] = values[i,:]\n",
    "  return pd.DataFrame(data)"
   ]
  },
  {
   "cell_type": "code",
   "execution_count": 17,
   "metadata": {},
   "outputs": [
    {
     "data": {
      "text/html": [
       "Meshcat is now available at <a href=\"http://localhost:7020\">http://localhost:7020</a>"
      ],
      "text/plain": [
       "<IPython.core.display.HTML object>"
      ]
     },
     "metadata": {},
     "output_type": "display_data"
    }
   ],
   "source": [
    "meshcat = StartMeshcat()"
   ]
  },
  {
   "cell_type": "code",
   "execution_count": 22,
   "metadata": {},
   "outputs": [
    {
     "data": {
      "image/svg+xml": "<svg xmlns=\"http://www.w3.org/2000/svg\" xmlns:xlink=\"http://www.w3.org/1999/xlink\" width=\"784pt\" height=\"968pt\" viewBox=\"0.00 0.00 784.00 968.00\">\n<g id=\"graph0\" class=\"graph\" transform=\"scale(1 1) rotate(0) translate(4 964)\">\n<title>MultibodyPlant</title>\n<polygon fill=\"white\" stroke=\"transparent\" points=\"-4,4 -4,-964 780,-964 780,4 -4,4\"/>\n<text text-anchor=\"middle\" x=\"388\" y=\"-944.8\" font-family=\"Times,serif\" font-size=\"14.00\">plant</text>\n<g id=\"clust1\" class=\"cluster\">\n<title>cluster0</title>\n<polygon fill=\"none\" stroke=\"black\" points=\"65,-854 65,-929 229,-929 229,-854 65,-854\"/>\n<text text-anchor=\"middle\" x=\"147\" y=\"-861.8\" font-family=\"Times,serif\" font-size=\"14.00\">WorldModelInstance</text>\n</g>\n<g id=\"clust2\" class=\"cluster\">\n<title>cluster1</title>\n<polygon fill=\"none\" stroke=\"black\" points=\"151,-8 151,-83 325,-83 325,-8 151,-8\"/>\n<text text-anchor=\"middle\" x=\"238\" y=\"-15.8\" font-family=\"Times,serif\" font-size=\"14.00\">DefaultModelInstance</text>\n</g>\n<g id=\"clust3\" class=\"cluster\">\n<title>cluster2</title>\n<polygon fill=\"none\" stroke=\"black\" points=\"8,-116 8,-821 201,-821 201,-116 8,-116\"/>\n<text text-anchor=\"middle\" x=\"104.5\" y=\"-123.8\" font-family=\"Times,serif\" font-size=\"14.00\">iiwa7</text>\n</g>\n<g id=\"clust4\" class=\"cluster\">\n<title>cluster3</title>\n<polygon fill=\"none\" stroke=\"black\" points=\"339,-8 339,-83 419,-83 419,-8 339,-8\"/>\n<text text-anchor=\"middle\" x=\"379\" y=\"-15.8\" font-family=\"Times,serif\" font-size=\"14.00\">camera0</text>\n</g>\n<g id=\"clust5\" class=\"cluster\">\n<title>cluster4</title>\n<polygon fill=\"none\" stroke=\"black\" points=\"343,-746 343,-821 423,-821 423,-746 343,-746\"/>\n<text text-anchor=\"middle\" x=\"383\" y=\"-753.8\" font-family=\"Times,serif\" font-size=\"14.00\">floor</text>\n</g>\n<g id=\"clust6\" class=\"cluster\">\n<title>cluster5</title>\n<polygon fill=\"none\" stroke=\"black\" points=\"16,-8 16,-83 140,-83 140,-8 16,-8\"/>\n<text text-anchor=\"middle\" x=\"78\" y=\"-15.8\" font-family=\"Times,serif\" font-size=\"14.00\">paddle</text>\n</g>\n<!-- body0 -->\n<g id=\"node1\" class=\"node\">\n<title>body0</title>\n<ellipse fill=\"none\" stroke=\"black\" cx=\"147\" cy=\"-903\" rx=\"61.99\" ry=\"18\"/>\n<text text-anchor=\"middle\" x=\"147\" y=\"-899.3\" font-family=\"Times,serif\" font-size=\"14.00\">WorldBody</text>\n</g>\n<!-- \\n -->\n<g id=\"node2\" class=\"node\">\n<title>\\n</title>\n<ellipse fill=\"none\" stroke=\"black\" cx=\"238\" cy=\"-57\" rx=\"27\" ry=\"18\"/>\n</g>\n<!-- body1 -->\n<g id=\"node3\" class=\"node\">\n<title>body1</title>\n<ellipse fill=\"none\" stroke=\"black\" cx=\"78\" cy=\"-795\" rx=\"61.99\" ry=\"18\"/>\n<text text-anchor=\"middle\" x=\"78\" y=\"-791.3\" font-family=\"Times,serif\" font-size=\"14.00\">iiwa_link_0</text>\n</g>\n<!-- body1&#45;&gt;body0 -->\n<g id=\"edge8\" class=\"edge\">\n<title>body1-&gt;body0</title>\n<path fill=\"none\" stroke=\"black\" d=\"M74.91,-813.03C73.9,-823.11 74.08,-835.84 79,-846 85.82,-860.09 98.06,-871.87 110.3,-880.93\"/>\n<polygon fill=\"black\" stroke=\"black\" points=\"108.49,-883.93 118.7,-886.76 112.48,-878.18 108.49,-883.93\"/>\n<text text-anchor=\"middle\" x=\"220\" y=\"-834.8\" font-family=\"Times,serif\" font-size=\"14.00\">WorldBody_welds_to_iiwa_link_0 [weld]</text>\n</g>\n<!-- body2 -->\n<g id=\"node4\" class=\"node\">\n<title>body2</title>\n<ellipse fill=\"none\" stroke=\"black\" cx=\"78\" cy=\"-687\" rx=\"61.99\" ry=\"18\"/>\n<text text-anchor=\"middle\" x=\"78\" y=\"-683.3\" font-family=\"Times,serif\" font-size=\"14.00\">iiwa_link_1</text>\n</g>\n<!-- body2&#45;&gt;body1 -->\n<g id=\"edge1\" class=\"edge\">\n<title>body2-&gt;body1</title>\n<path fill=\"none\" stroke=\"black\" d=\"M78,-705.03C78,-721.62 78,-747.12 78,-766.57\"/>\n<polygon fill=\"black\" stroke=\"black\" points=\"74.5,-766.66 78,-776.66 81.5,-766.66 74.5,-766.66\"/>\n<text text-anchor=\"middle\" x=\"157.5\" y=\"-726.8\" font-family=\"Times,serif\" font-size=\"14.00\">iiwa_joint_1 [revolute]</text>\n</g>\n<!-- body3 -->\n<g id=\"node5\" class=\"node\">\n<title>body3</title>\n<ellipse fill=\"none\" stroke=\"black\" cx=\"78\" cy=\"-600\" rx=\"61.99\" ry=\"18\"/>\n<text text-anchor=\"middle\" x=\"78\" y=\"-596.3\" font-family=\"Times,serif\" font-size=\"14.00\">iiwa_link_2</text>\n</g>\n<!-- body3&#45;&gt;body2 -->\n<g id=\"edge2\" class=\"edge\">\n<title>body3-&gt;body2</title>\n<path fill=\"none\" stroke=\"black\" d=\"M78,-618.2C78,-629.84 78,-645.45 78,-658.76\"/>\n<polygon fill=\"black\" stroke=\"black\" points=\"74.5,-658.82 78,-668.82 81.5,-658.82 74.5,-658.82\"/>\n<text text-anchor=\"middle\" x=\"157.5\" y=\"-639.8\" font-family=\"Times,serif\" font-size=\"14.00\">iiwa_joint_2 [revolute]</text>\n</g>\n<!-- body4 -->\n<g id=\"node6\" class=\"node\">\n<title>body4</title>\n<ellipse fill=\"none\" stroke=\"black\" cx=\"78\" cy=\"-513\" rx=\"61.99\" ry=\"18\"/>\n<text text-anchor=\"middle\" x=\"78\" y=\"-509.3\" font-family=\"Times,serif\" font-size=\"14.00\">iiwa_link_3</text>\n</g>\n<!-- body4&#45;&gt;body3 -->\n<g id=\"edge3\" class=\"edge\">\n<title>body4-&gt;body3</title>\n<path fill=\"none\" stroke=\"black\" d=\"M78,-531.2C78,-542.84 78,-558.45 78,-571.76\"/>\n<polygon fill=\"black\" stroke=\"black\" points=\"74.5,-571.82 78,-581.82 81.5,-571.82 74.5,-571.82\"/>\n<text text-anchor=\"middle\" x=\"157.5\" y=\"-552.8\" font-family=\"Times,serif\" font-size=\"14.00\">iiwa_joint_3 [revolute]</text>\n</g>\n<!-- body5 -->\n<g id=\"node7\" class=\"node\">\n<title>body5</title>\n<ellipse fill=\"none\" stroke=\"black\" cx=\"78\" cy=\"-426\" rx=\"61.99\" ry=\"18\"/>\n<text text-anchor=\"middle\" x=\"78\" y=\"-422.3\" font-family=\"Times,serif\" font-size=\"14.00\">iiwa_link_4</text>\n</g>\n<!-- body5&#45;&gt;body4 -->\n<g id=\"edge4\" class=\"edge\">\n<title>body5-&gt;body4</title>\n<path fill=\"none\" stroke=\"black\" d=\"M78,-444.2C78,-455.84 78,-471.45 78,-484.76\"/>\n<polygon fill=\"black\" stroke=\"black\" points=\"74.5,-484.82 78,-494.82 81.5,-484.82 74.5,-484.82\"/>\n<text text-anchor=\"middle\" x=\"157.5\" y=\"-465.8\" font-family=\"Times,serif\" font-size=\"14.00\">iiwa_joint_4 [revolute]</text>\n</g>\n<!-- body6 -->\n<g id=\"node8\" class=\"node\">\n<title>body6</title>\n<ellipse fill=\"none\" stroke=\"black\" cx=\"78\" cy=\"-339\" rx=\"61.99\" ry=\"18\"/>\n<text text-anchor=\"middle\" x=\"78\" y=\"-335.3\" font-family=\"Times,serif\" font-size=\"14.00\">iiwa_link_5</text>\n</g>\n<!-- body6&#45;&gt;body5 -->\n<g id=\"edge5\" class=\"edge\">\n<title>body6-&gt;body5</title>\n<path fill=\"none\" stroke=\"black\" d=\"M78,-357.2C78,-368.84 78,-384.45 78,-397.76\"/>\n<polygon fill=\"black\" stroke=\"black\" points=\"74.5,-397.82 78,-407.82 81.5,-397.82 74.5,-397.82\"/>\n<text text-anchor=\"middle\" x=\"157.5\" y=\"-378.8\" font-family=\"Times,serif\" font-size=\"14.00\">iiwa_joint_5 [revolute]</text>\n</g>\n<!-- body7 -->\n<g id=\"node9\" class=\"node\">\n<title>body7</title>\n<ellipse fill=\"none\" stroke=\"black\" cx=\"78\" cy=\"-252\" rx=\"61.99\" ry=\"18\"/>\n<text text-anchor=\"middle\" x=\"78\" y=\"-248.3\" font-family=\"Times,serif\" font-size=\"14.00\">iiwa_link_6</text>\n</g>\n<!-- body7&#45;&gt;body6 -->\n<g id=\"edge6\" class=\"edge\">\n<title>body7-&gt;body6</title>\n<path fill=\"none\" stroke=\"black\" d=\"M78,-270.2C78,-281.84 78,-297.45 78,-310.76\"/>\n<polygon fill=\"black\" stroke=\"black\" points=\"74.5,-310.82 78,-320.82 81.5,-310.82 74.5,-310.82\"/>\n<text text-anchor=\"middle\" x=\"157.5\" y=\"-291.8\" font-family=\"Times,serif\" font-size=\"14.00\">iiwa_joint_6 [revolute]</text>\n</g>\n<!-- body8 -->\n<g id=\"node10\" class=\"node\">\n<title>body8</title>\n<ellipse fill=\"none\" stroke=\"black\" cx=\"78\" cy=\"-165\" rx=\"61.99\" ry=\"18\"/>\n<text text-anchor=\"middle\" x=\"78\" y=\"-161.3\" font-family=\"Times,serif\" font-size=\"14.00\">iiwa_link_7</text>\n</g>\n<!-- body8&#45;&gt;body7 -->\n<g id=\"edge7\" class=\"edge\">\n<title>body8-&gt;body7</title>\n<path fill=\"none\" stroke=\"black\" d=\"M78,-183.2C78,-194.84 78,-210.45 78,-223.76\"/>\n<polygon fill=\"black\" stroke=\"black\" points=\"74.5,-223.82 78,-233.82 81.5,-223.82 74.5,-223.82\"/>\n<text text-anchor=\"middle\" x=\"157.5\" y=\"-204.8\" font-family=\"Times,serif\" font-size=\"14.00\">iiwa_joint_7 [revolute]</text>\n</g>\n<!-- body9 -->\n<g id=\"node11\" class=\"node\">\n<title>body9</title>\n<ellipse fill=\"none\" stroke=\"black\" cx=\"379\" cy=\"-57\" rx=\"32.49\" ry=\"18\"/>\n<text text-anchor=\"middle\" x=\"379\" y=\"-53.3\" font-family=\"Times,serif\" font-size=\"14.00\">base</text>\n</g>\n<!-- body10 -->\n<g id=\"node12\" class=\"node\">\n<title>body10</title>\n<ellipse fill=\"none\" stroke=\"black\" cx=\"383\" cy=\"-795\" rx=\"32.49\" ry=\"18\"/>\n<text text-anchor=\"middle\" x=\"383\" y=\"-791.3\" font-family=\"Times,serif\" font-size=\"14.00\">floor</text>\n</g>\n<!-- body10&#45;&gt;body0 -->\n<g id=\"edge9\" class=\"edge\">\n<title>body10-&gt;body0</title>\n<path fill=\"none\" stroke=\"black\" d=\"M379.5,-813.14C376.41,-824.04 370.81,-837.63 361,-846 321.34,-879.82 263.57,-893.52 218.05,-898.93\"/>\n<polygon fill=\"black\" stroke=\"black\" points=\"217.52,-895.47 207.95,-900.02 218.27,-902.43 217.52,-895.47\"/>\n<text text-anchor=\"middle\" x=\"573.5\" y=\"-834.8\" font-family=\"Times,serif\" font-size=\"14.00\">sdformat_model_static_WorldBody_welds_to_floor [weld]</text>\n</g>\n<!-- body11 -->\n<g id=\"node13\" class=\"node\">\n<title>body11</title>\n<ellipse fill=\"none\" stroke=\"black\" cx=\"78\" cy=\"-57\" rx=\"53.89\" ry=\"18\"/>\n<text text-anchor=\"middle\" x=\"78\" y=\"-53.3\" font-family=\"Times,serif\" font-size=\"14.00\">base_link</text>\n</g>\n<!-- body11&#45;&gt;body8 -->\n<g id=\"edge10\" class=\"edge\">\n<title>body11-&gt;body8</title>\n<path fill=\"none\" stroke=\"black\" d=\"M78,-75.03C78,-91.62 78,-117.12 78,-136.57\"/>\n<polygon fill=\"black\" stroke=\"black\" points=\"74.5,-136.66 78,-146.66 81.5,-136.66 74.5,-136.66\"/>\n<text text-anchor=\"middle\" x=\"212.5\" y=\"-96.8\" font-family=\"Times,serif\" font-size=\"14.00\">iiwa_link_7_welds_to_base_link [weld]</text>\n</g>\n</g>\n</svg>",
      "text/plain": [
       "<IPython.core.display.SVG object>"
      ]
     },
     "metadata": {},
     "output_type": "display_data"
    },
    {
     "name": "stdout",
     "output_type": "stream",
     "text": [
      "[9.56181152e-01 1.36054129e-16 5.81819597e-01]\n"
     ]
    }
   ],
   "source": [
    "meshcat.Delete()\n",
    "def station_test():\n",
    "    builder = DiagramBuilder()\n",
    "    diag, plant = MakeManipulationStation()\n",
    "    station = builder.AddSystem(diag)\n",
    "\n",
    "    visualizer = MeshcatVisualizerCpp.AddToBuilder(\n",
    "        builder,station.GetOutputPort(\"geometry_query\"), meshcat)\n",
    "    \n",
    "    temp_context = station.CreateDefaultContext()\n",
    "    \n",
    "    #display(SVG(pydot.graph_from_dot_data(plant.GetTopologyGraphvizString())[0].create_svg()))\n",
    "    temp_plant_context = plant.GetMyContextFromRoot(temp_context)\n",
    "    X_G = plant.EvalBodyPoseInWorld(temp_plant_context, plant.GetBodyByName(\"base_link\"))\n",
    "    print(X_G.translation())\n",
    "    diagram = builder.Build()\n",
    "    simulator = Simulator(diagram)\n",
    "\n",
    "    context = simulator.get_context()\n",
    "    station_context = station.GetMyContextFromRoot(context)\n",
    "\n",
    "    station.GetInputPort(\"iiwa_position\").FixValue(station_context, [0, np.pi/2, 0, -np.pi/2, 0, -np.pi/4, 0])\n",
    "    \n",
    "\n",
    "   \n",
    "    #visualizer.start_recording()\n",
    "\n",
    "    AddMeshcatTriad(meshcat,\"InitialPose\",X_PT=X_G)\n",
    "    simulator.AdvanceTo(.01)\n",
    "    ##visualizer.stop_recording()\n",
    "    #isualizer.publish_recording()\n",
    "\n",
    "\n",
    "station_test()"
   ]
  }
 ],
 "metadata": {
  "interpreter": {
   "hash": "916dbcbb3f70747c44a77c7bcd40155683ae19c65e1c03b4aa3499c5328201f1"
  },
  "kernelspec": {
   "display_name": "Python 3.8.10 64-bit",
   "language": "python",
   "name": "python3"
  },
  "language_info": {
   "codemirror_mode": {
    "name": "ipython",
    "version": 3
   },
   "file_extension": ".py",
   "mimetype": "text/x-python",
   "name": "python",
   "nbconvert_exporter": "python",
   "pygments_lexer": "ipython3",
   "version": "3.8.10"
  },
  "orig_nbformat": 4
 },
 "nbformat": 4,
 "nbformat_minor": 2
}
